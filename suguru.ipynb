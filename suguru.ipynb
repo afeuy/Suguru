{
 "cells": [
  {
   "cell_type": "markdown",
   "metadata": {},
   "source": [
    "Suguru Maker/analisys/solver/grapher\n",
    "\n",
    "Suguru is a sudoku like game where you solve a n*p grid filled by 1 - k size zones containing number from 1 to the zone size. \n",
    "\n",
    "a number cannot be touching (meaning in a 3*3 grid centered on a number, that number cannot be present again)"
   ]
  },
  {
   "cell_type": "code",
   "execution_count": 80,
   "metadata": {},
   "outputs": [],
   "source": [
    "import numpy as np\n",
    "import operator\n",
    "import random"
   ]
  },
  {
   "cell_type": "markdown",
   "metadata": {},
   "source": [
    "Suguru Maker"
   ]
  },
  {
   "cell_type": "code",
   "execution_count": 81,
   "metadata": {},
   "outputs": [],
   "source": [
    "def is_valid(index : tuple, shape : tuple):\n",
    "\n",
    "    return (0 <= index[0] < shape[0] and\n",
    "            0 <= index[1] < shape[1])"
   ]
  },
  {
   "cell_type": "code",
   "execution_count": 82,
   "metadata": {},
   "outputs": [],
   "source": [
    "def get_neighboors(position :tuple, shape : tuple):\n",
    "    neighboors = []\n",
    "    # adds position in neighboors remove how ? \n",
    "    for i in range(-1, 2):\n",
    "        for j in range(-1, 2):\n",
    "            if is_valid((position[0]+i,position[1]+j),shape):\n",
    "                neighboors.append((position[0]+i,position[1]+j))\n",
    "    neighboors.remove(position)\n",
    "    return neighboors\n"
   ]
  },
  {
   "cell_type": "code",
   "execution_count": 84,
   "metadata": {},
   "outputs": [],
   "source": [
    "def get_positions_snail(positions :np.array , grid : np.array, shape :tuple):\n",
    "    directions = [np.array([0,1]),np.array([1,0]),np.array([0,-1]),np.array([-1,0])]\n",
    "    direction = 0\n",
    "    old_pos = positions[0]\n",
    "    positions[1] = old_pos + directions[direction]\n",
    "    pos = positions[1]\n",
    "    grid[*old_pos] = 1\n",
    "    grid[*pos] = 1\n",
    "    i=2\n",
    "    \n",
    "    while i < len(positions):\n",
    "        \n",
    "        if is_valid(pos + directions[(direction+1)%4],shape):\n",
    "        # i.e can be seen as if the snail can coil more ( that is_valid is techniacally always true)\n",
    "            if grid[tuple(pos + directions[(direction+1)%4])] == 0:\n",
    "                pos = pos + directions[(direction+1)%4]\n",
    "                positions[i] = pos\n",
    "                grid[*pos] = 1\n",
    "                direction = (direction+1)%4\n",
    "                i += 1\n",
    "            \n",
    "            elif is_valid(pos + directions[direction],shape):\n",
    "                if grid[tuple(pos + directions[direction])] == 0:\n",
    "                    pos = pos + directions[direction]\n",
    "                    positions[i] = pos\n",
    "                    grid[*pos] = 1\n",
    "                    i += 1\n",
    "\n",
    "                else:\n",
    "                    # goes over previous values ( to see the scenario just imagine a snail path that starts with an offset from the center)\n",
    "                    pos = pos + directions[direction]\n",
    "            else:\n",
    "                # turns at a dead end ( also to see the scenario just imagine a snail path that starts with an offset from the center)\n",
    "                direction = (direction+1)%4\n",
    "    return positions, grid\n",
    "                \n",
    "\n",
    "                \n",
    "            \n",
    "\n",
    "\n"
   ]
  },
  {
   "cell_type": "code",
   "execution_count": 85,
   "metadata": {},
   "outputs": [],
   "source": [
    "def get_neighboor_line(prev :tuple , grid : np.array, shape :tuple):\n",
    "    # lots of optimizations possible here just general architecture useless calculus and verif but who cares\n",
    "    # goes right then down \n",
    "    val = np.copy(prev)\n",
    "    val[1] +=1 \n",
    "    print(\"val\",val)\n",
    "\n",
    "    if is_valid(val,shape):\n",
    "        #checks if this lands in the suguru grid\n",
    "\n",
    "        if not(grid[*val]):\n",
    "            #checks if there is a value assigned there\n",
    "            return val\n",
    "    else:\n",
    "        val[1] = 0\n",
    "\n",
    "        if not(grid[*val]):\n",
    "            return val\n",
    "    val[1] = prev[1]\n",
    "    val[0] += 1 \n",
    "    if is_valid(val,shape):\n",
    "        if not(grid[*val]):\n",
    "            return val\n",
    "    else:\n",
    "        val[0] = 0\n",
    "        if not(grid[*val]):\n",
    "            return val\n",
    "    print(\"ERROR\")\n",
    "    return prev\n",
    "    \n",
    "\n",
    "\n"
   ]
  },
  {
   "cell_type": "code",
   "execution_count": 130,
   "metadata": {},
   "outputs": [],
   "source": [
    "# def get_value(suguru: np.array, neighboor:tuple):\n",
    "#     return\n",
    "    "
   ]
  },
  {
   "cell_type": "code",
   "execution_count": 131,
   "metadata": {},
   "outputs": [],
   "source": [
    "def avaliable(value : int, numbers : list):\n",
    "    return True\n",
    "\n",
    "    if value == 1:\n",
    "        return True\n",
    "    else:\n",
    "        if value-1 in numbers:\n",
    "            return(avaliable(value-1, numbers))"
   ]
  },
  {
   "cell_type": "code",
   "execution_count": 127,
   "metadata": {},
   "outputs": [],
   "source": [
    "def get_possibilities(numbers : list, counter : list):\n",
    "    #check the values of the neighboors to know which numbers can be added\n",
    "\n",
    "    ###NOT MATHEMATICALLY \n",
    "    \n",
    "    #we can add a check if all the numbers under present exist in a 3d radius\n",
    "    \n",
    "    possibilities = []\n",
    "    for value in range(1,6):\n",
    "        if not (value in numbers):\n",
    "            if value != 1 :\n",
    "                if avaliable(value, numbers):\n",
    "                    possibilities.append(value)                    \n",
    "            else:\n",
    "                possibilities.append(value)\n",
    "    for value in range(2,6):\n",
    "\n",
    "        if counter[value-1] >= counter[value-2]:\n",
    "            if value in possibilities:\n",
    "                possibilities.remove(value)\n",
    "    return possibilities\n"
   ]
  },
  {
   "cell_type": "code",
   "execution_count": 89,
   "metadata": {},
   "outputs": [],
   "source": [
    "def get_value(possibilities : np.array):\n",
    "    #we can try equiprob since we only add a 5 in poss if a 4 is present\n",
    "    return random.choice(possibilities)        \n",
    "        \n"
   ]
  },
  {
   "cell_type": "code",
   "execution_count": 90,
   "metadata": {},
   "outputs": [],
   "source": [
    "def path_type(method):\n",
    "    methods = [\"line\" ,\"snail\"]\n",
    "    if method in methods:\n",
    "        return method\n",
    "    else : \n",
    "        print(\"unnamed method switching to line\")\n",
    "        return \"line\""
   ]
  },
  {
   "cell_type": "code",
   "execution_count": 128,
   "metadata": {},
   "outputs": [],
   "source": [
    "def make_numbers(suguru : np.array):\n",
    "    \n",
    "    #writes the numbers first hopefully there wont be impossible grids? \n",
    "    grid_shape = np.shape(suguru)\n",
    "    grid_size = grid_shape[0]*grid_shape[1]\n",
    "    #useless for now ? \n",
    "    # average_zone_size = 4\n",
    "    # zone_number = np.ceil(np.size(suguru)/average_zone_size)\n",
    "\n",
    "    # pick a random spot throw a 1\n",
    "    # adding a -1 here doesnt change a thing factually just makes it easier to encode snail for now\n",
    "    # slows very very very slightly by adding 2 operations in the whole calculus  \n",
    "    start_x = np.random.randint(grid_shape[0]-1)\n",
    "    start_y = np.random.randint(grid_shape[1]-1)\n",
    "\n",
    "    suguru[start_x][start_y] = 1\n",
    "\n",
    "    grid = np.zeros(grid_shape)\n",
    "    #grid gets allocated positions\n",
    "    # allocation_type = \"line\"\n",
    "    # technique = \"line\"\n",
    "    technique = \"snail\"\n",
    "    technique = path_type(technique)\n",
    "    i = 0\n",
    "    position = (start_x, start_y)\n",
    "    positions = np.zeros((64,2)).astype(int)\n",
    "    positions[0] = position\n",
    "\n",
    "    if technique == \"line\":\n",
    "        for i in range (1,64):\n",
    "            positions[i] = (get_neighboor_line(positions[i-1], grid, grid_shape)) \n",
    "            grid[*positions[i]] = 1\n",
    "    if technique == \"snail\" : \n",
    "        positions, grid = get_positions_snail(positions, grid, grid_shape)\n",
    "        \n",
    "\n",
    "    i = 0\n",
    "    counter = [0,0,0,0,0]\n",
    "\n",
    "    while i<grid_size:\n",
    "        \n",
    "        # position = get_neighboor_line(position,grid, grid_shape)\n",
    "\n",
    "        #pick a neighboor\n",
    "        #assess possible values (if nothing possible here i-e 1-5 is taken then what?) what if snail shape allocation ? should work since no more than 4 neighbors max ? \n",
    "        #can do snail-like allocation from random startr point technically #most arranged allocation techniques should work, while random based ones are unsafe\n",
    "        #distribution will be weighted to have more 1s in the firstly elected part likely ?\n",
    "        position = tuple(positions[i])\n",
    "        neighboors = get_neighboors(position, grid_shape)\n",
    "        numbers = []\n",
    "        for neighboor in neighboors:\n",
    "            numbers.append(int(suguru[neighboor]))\n",
    "        possibilities = get_possibilities(numbers, counter)\n",
    "        value = get_value(possibilities)\n",
    "        counter[value-1] += 1\n",
    "        print(\"counter\",counter )\n",
    "        suguru[position] = value\n",
    "        grid[position] = 1\n",
    "\n",
    "    #allocate values\n",
    "    \n",
    "        i+=1\n",
    "\n",
    "    print(suguru)\n",
    "    return suguru\n",
    "\n",
    "    \n",
    "    "
   ]
  },
  {
   "cell_type": "code",
   "execution_count": null,
   "metadata": {},
   "outputs": [],
   "source": [
    "def make_suguru(size = 8):\n",
    "    # makes a Filled Suguru grid \n",
    "    if 2 < size < 14 : \n",
    "        # suguru = np.zeros((size,size)).astype(int)\n",
    "        suguru = make_numbers(suguru)\n",
    "    else:\n",
    "         suguru = np.zeros\n",
    "    return suguru"
   ]
  },
  {
   "cell_type": "code",
   "execution_count": null,
   "metadata": {},
   "outputs": [
    {
     "name": "stdout",
     "output_type": "stream",
     "text": [
      "counter [1, 0, 0, 0, 0]\n",
      "counter [1, 1, 0, 0, 0]\n",
      "counter [1, 1, 1, 0, 0]\n",
      "counter [1, 1, 1, 1, 0]\n",
      "counter [1, 1, 1, 1, 1]\n"
     ]
    },
    {
     "ename": "IndexError",
     "evalue": "Cannot choose from an empty sequence",
     "output_type": "error",
     "traceback": [
      "\u001b[1;31m---------------------------------------------------------------------------\u001b[0m",
      "\u001b[1;31mIndexError\u001b[0m                                Traceback (most recent call last)",
      "Cell \u001b[1;32mIn[132], line 1\u001b[0m\n\u001b[1;32m----> 1\u001b[0m suguru \u001b[38;5;241m=\u001b[39m make_suguru(\u001b[38;5;241m8\u001b[39m)\n",
      "Cell \u001b[1;32mIn[112], line 5\u001b[0m, in \u001b[0;36mmake_suguru\u001b[1;34m(size)\u001b[0m\n\u001b[0;32m      3\u001b[0m \u001b[38;5;28;01mif\u001b[39;00m \u001b[38;5;241m2\u001b[39m \u001b[38;5;241m<\u001b[39m size \u001b[38;5;241m<\u001b[39m \u001b[38;5;241m14\u001b[39m : \n\u001b[0;32m      4\u001b[0m     suguru \u001b[38;5;241m=\u001b[39m np\u001b[38;5;241m.\u001b[39mzeros((size,size))\u001b[38;5;241m.\u001b[39mastype(\u001b[38;5;28mint\u001b[39m)\n\u001b[1;32m----> 5\u001b[0m     suguru \u001b[38;5;241m=\u001b[39m make_numbers(suguru)\n\u001b[0;32m      6\u001b[0m \u001b[38;5;28;01melse\u001b[39;00m:\n\u001b[0;32m      7\u001b[0m      suguru \u001b[38;5;241m=\u001b[39m np\u001b[38;5;241m.\u001b[39mzeros\n",
      "Cell \u001b[1;32mIn[128], line 54\u001b[0m, in \u001b[0;36mmake_numbers\u001b[1;34m(suguru)\u001b[0m\n\u001b[0;32m     52\u001b[0m     numbers\u001b[38;5;241m.\u001b[39mappend(\u001b[38;5;28mint\u001b[39m(suguru[neighboor]))\n\u001b[0;32m     53\u001b[0m possibilities \u001b[38;5;241m=\u001b[39m get_possibilities(numbers, counter)\n\u001b[1;32m---> 54\u001b[0m value \u001b[38;5;241m=\u001b[39m get_value(possibilities)\n\u001b[0;32m     55\u001b[0m counter[value\u001b[38;5;241m-\u001b[39m\u001b[38;5;241m1\u001b[39m] \u001b[38;5;241m+\u001b[39m\u001b[38;5;241m=\u001b[39m \u001b[38;5;241m1\u001b[39m\n\u001b[0;32m     56\u001b[0m \u001b[38;5;28mprint\u001b[39m(\u001b[38;5;124m\"\u001b[39m\u001b[38;5;124mcounter\u001b[39m\u001b[38;5;124m\"\u001b[39m,counter )\n",
      "Cell \u001b[1;32mIn[89], line 3\u001b[0m, in \u001b[0;36mget_value\u001b[1;34m(possibilities)\u001b[0m\n\u001b[0;32m      1\u001b[0m \u001b[38;5;28;01mdef\u001b[39;00m \u001b[38;5;21mget_value\u001b[39m(possibilities : np\u001b[38;5;241m.\u001b[39marray):\n\u001b[0;32m      2\u001b[0m     \u001b[38;5;66;03m#we can try equiprob since we only add a 5 in poss if a 4 is present\u001b[39;00m\n\u001b[1;32m----> 3\u001b[0m     \u001b[38;5;28;01mreturn\u001b[39;00m random\u001b[38;5;241m.\u001b[39mchoice(possibilities)\n",
      "File \u001b[1;32mc:\\ProgramData\\anaconda3\\Lib\\random.py:373\u001b[0m, in \u001b[0;36mRandom.choice\u001b[1;34m(self, seq)\u001b[0m\n\u001b[0;32m    370\u001b[0m \u001b[38;5;66;03m# As an accommodation for NumPy, we don't use \"if not seq\"\u001b[39;00m\n\u001b[0;32m    371\u001b[0m \u001b[38;5;66;03m# because bool(numpy.array()) raises a ValueError.\u001b[39;00m\n\u001b[0;32m    372\u001b[0m \u001b[38;5;28;01mif\u001b[39;00m \u001b[38;5;129;01mnot\u001b[39;00m \u001b[38;5;28mlen\u001b[39m(seq):\n\u001b[1;32m--> 373\u001b[0m     \u001b[38;5;28;01mraise\u001b[39;00m \u001b[38;5;167;01mIndexError\u001b[39;00m(\u001b[38;5;124m'\u001b[39m\u001b[38;5;124mCannot choose from an empty sequence\u001b[39m\u001b[38;5;124m'\u001b[39m)\n\u001b[0;32m    374\u001b[0m \u001b[38;5;28;01mreturn\u001b[39;00m seq[\u001b[38;5;28mself\u001b[39m\u001b[38;5;241m.\u001b[39m_randbelow(\u001b[38;5;28mlen\u001b[39m(seq))]\n",
      "\u001b[1;31mIndexError\u001b[0m: Cannot choose from an empty sequence"
     ]
    }
   ],
   "source": [
    "suguru = np.zeros((size,size)).astype(int)\n",
    "\n",
    "suguru = make_suguru(8)"
   ]
  },
  {
   "cell_type": "code",
   "execution_count": 115,
   "metadata": {},
   "outputs": [
    {
     "name": "stdout",
     "output_type": "stream",
     "text": [
      "[[1 3 4 1 4 3 5 2]\n",
      " [5 2 5 3 5 2 1 4]\n",
      " [4 1 4 2 1 4 5 3]\n",
      " [5 3 5 3 5 3 1 2]\n",
      " [4 2 4 2 4 2 4 3]\n",
      " [3 1 3 5 1 3 5 1]\n",
      " [4 2 4 2 4 2 4 2]\n",
      " [3 1 3 1 3 1 3 1]]\n",
      "number of 1s : 13\n",
      "number of 2s : 12\n",
      "number of 3s : 15\n",
      "number of 4s : 14\n",
      "number of 5s : 10\n"
     ]
    }
   ],
   "source": [
    "#numbers of each val in suguru\n",
    "print(suguru)\n",
    "for i in range(1,6):\n",
    "    print(f\"number of {i}s : {np.sum(suguru==i)}\")\n",
    "    "
   ]
  }
 ],
 "metadata": {
  "kernelspec": {
   "display_name": "base",
   "language": "python",
   "name": "python3"
  },
  "language_info": {
   "codemirror_mode": {
    "name": "ipython",
    "version": 3
   },
   "file_extension": ".py",
   "mimetype": "text/x-python",
   "name": "python",
   "nbconvert_exporter": "python",
   "pygments_lexer": "ipython3",
   "version": "3.11.7"
  }
 },
 "nbformat": 4,
 "nbformat_minor": 2
}
