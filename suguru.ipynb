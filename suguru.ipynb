{
 "cells": [
  {
   "cell_type": "markdown",
   "metadata": {},
   "source": [
    "Suguru Maker/analisys/solver/grapher\n",
    "\n",
    "Suguru is a sudoku like game where you solve a n*p grid filled by 1 - k size zones containing number from 1 to the zone size. \n",
    "\n",
    "a number cannot be touching (meaning in a 3*3 grid centered on a number, that number cannot be present again)"
   ]
  },
  {
   "cell_type": "code",
   "execution_count": 2,
   "metadata": {},
   "outputs": [],
   "source": [
    "import numpy as np\n",
    "import operator\n",
    "import random"
   ]
  },
  {
   "cell_type": "markdown",
   "metadata": {},
   "source": [
    "Suguru Maker"
   ]
  },
  {
   "cell_type": "code",
   "execution_count": 3,
   "metadata": {},
   "outputs": [],
   "source": [
    "def is_valid(index : tuple, shape : tuple):\n",
    "\n",
    "    return (0 <= index[0] < shape[0] and\n",
    "            0 <= index[1] < shape[1])"
   ]
  },
  {
   "cell_type": "code",
   "execution_count": 4,
   "metadata": {},
   "outputs": [],
   "source": [
    "def get_neighboors(position :tuple, shape : tuple):\n",
    "    neighboors = []\n",
    "    # adds position in neighboors remove how ? \n",
    "    for i in range(-1, 2):\n",
    "        for j in range(-1, 2):\n",
    "            if is_valid((position[0]+i,position[1]+j),shape):\n",
    "                neighboors.append((position[0]+i,position[1]+j))\n",
    "    neighboors.remove(position)\n",
    "    return neighboors\n"
   ]
  },
  {
   "cell_type": "code",
   "execution_count": null,
   "metadata": {},
   "outputs": [
    {
     "name": "stdout",
     "output_type": "stream",
     "text": [
      "[0, 1, 0, 1]\n"
     ]
    }
   ],
   "source": [
    "print([0,1]+,p.array([0,1]))"
   ]
  },
  {
   "cell_type": "code",
   "execution_count": null,
   "metadata": {},
   "outputs": [],
   "source": [
    "def get_positions_snail(positions :np.array , grid : np.array, shape :tuple):\n",
    "    old_pos = positions[0]\n",
    "    \n",
    "    pos = old_pos"
   ]
  },
  {
   "cell_type": "code",
   "execution_count": 7,
   "metadata": {},
   "outputs": [],
   "source": [
    "def get_neighboor_line(prev :tuple , grid : np.array, shape :tuple):\n",
    "    # lots of optimizations possible here just general architecture useless calculus and verif but who cares\n",
    "    # goes right then down \n",
    "    val = np.copy(prev)\n",
    "    val[1] +=1 \n",
    "    print(\"val\",val)\n",
    "\n",
    "    if is_valid(val,shape):\n",
    "        #checks if this lands in the suguru grid\n",
    "\n",
    "        if not(grid[*val]):\n",
    "            #checks if there is a value assigned there\n",
    "            return val\n",
    "    else:\n",
    "        val[1] = 0\n",
    "\n",
    "        if not(grid[*val]):\n",
    "            return val\n",
    "    val[1] = prev[1]\n",
    "    val[0] += 1 \n",
    "    if is_valid(val,shape):\n",
    "        if not(grid[*val]):\n",
    "            return val\n",
    "    else:\n",
    "        val[0] = 0\n",
    "        if not(grid[*val]):\n",
    "            return val\n",
    "    print(\"ERROR\")\n",
    "    return prev\n",
    "    \n",
    "\n",
    "\n"
   ]
  },
  {
   "cell_type": "code",
   "execution_count": 8,
   "metadata": {},
   "outputs": [],
   "source": [
    "def get_value(suguru: np.array, neighboor:tuple):\n",
    "    return\n",
    "    "
   ]
  },
  {
   "cell_type": "code",
   "execution_count": 9,
   "metadata": {},
   "outputs": [],
   "source": [
    "def get_possibilities(numbers : list):\n",
    "    #check the values of the neighboors to know which numbers can be added\n",
    "\n",
    "    ###NOT MATHEMATICALLY \n",
    "    \n",
    "    #we can add a check if all the numbers under present exist in a 3d radius\n",
    "    \n",
    "    possibilities = []\n",
    "    for value in range(1,6):\n",
    "        if not (value in numbers):\n",
    "            if value != 1 :\n",
    "                if value-1 in numbers:\n",
    "                    possibilities.append(value)\n",
    "            else:\n",
    "                possibilities.append(value)\n",
    "    #can add checkers to check if that value is in a sufficient number ( as there logically cant be more 1 than 5) \n",
    "    return possibilities\n"
   ]
  },
  {
   "cell_type": "code",
   "execution_count": 10,
   "metadata": {},
   "outputs": [],
   "source": [
    "def get_value(possibilities : np.array):\n",
    "    #we can try equiprob since we only add a 5 in poss if a 4 is present\n",
    "    return random.choice(possibilities)        \n",
    "        \n"
   ]
  },
  {
   "cell_type": "code",
   "execution_count": 11,
   "metadata": {},
   "outputs": [],
   "source": [
    "def path_type(method):\n",
    "    methods = [\"line\" ,\"snail\"]\n",
    "    if method in methods:\n",
    "        return method\n",
    "    else : \n",
    "        print(\"unnamed method switching to line\")\n",
    "        return \"line\""
   ]
  },
  {
   "cell_type": "code",
   "execution_count": 12,
   "metadata": {},
   "outputs": [],
   "source": [
    "def make_numbers(suguru : np.array):\n",
    "    \n",
    "    #writes the numbers first hopefully there wont be impossible grids? \n",
    "    grid_shape = np.shape(suguru)\n",
    "    grid_size = grid_shape[0]*grid_shape[1]\n",
    "    #useless for now ? \n",
    "    # average_zone_size = 4\n",
    "    # zone_number = np.ceil(np.size(suguru)/average_zone_size)\n",
    "\n",
    "    # pick a random spot throw a 1\n",
    "    # adding a -1 here doesnt change a thing factually just makes it easier to encode snail for now\n",
    "    # slows very very very slightly by adding 2 operations in the whole calculus  \n",
    "    start_x = np.random.randint(grid_shape[0]-1)\n",
    "    start_y = np.random.randint(grid_shape[1]-1)\n",
    "\n",
    "    suguru[start_x][start_y] = 1\n",
    "\n",
    "    grid = np.zeros(grid_shape)\n",
    "    #grid gets allocated positions\n",
    "    # allocation_type = \"line\"\n",
    "    # technique = \"line\"\n",
    "    technique = \"snail\"\n",
    "    technique = path_type(technique)\n",
    "    i = 0\n",
    "    position = (start_x, start_y)\n",
    "    positions = np.zeros((64,2)).astype(int)\n",
    "    positions[0] = position\n",
    "\n",
    "    if technique == \"line\":\n",
    "        for i in range (1,64):\n",
    "            positions[i] = (get_neighboor_line(positions[i-1], grid, grid_shape)) \n",
    "            grid[*positions[i]] = 1\n",
    "    if technique == \"snail\" : \n",
    "        positions = get_positions_snail(positions, grid, grid_shape)\n",
    "        \n",
    "\n",
    "        \n",
    "    \"\"\"\n",
    "    while i<grid_size:\n",
    "        \n",
    "        # position = get_neighboor_line(position,grid, grid_shape)\n",
    "\n",
    "    #pick a neighboor\n",
    "    #assess possible values (if nothing possible here i-e 1-5 is taken then what?) what if snail shape allocation ? should work since no more than 4 neighbors max ? \n",
    "    #can do snail-like allocation from random startr point technically #most arranged allocation techniques should work, while random based ones are unsafe\n",
    "    #distribution will be weighted to have more 1s in the firstly elected part likely ?\n",
    "\n",
    "        neighboors = get_neighboors(position, grid_shape)\n",
    "        numbers = []\n",
    "        for neighboor in neighboors:\n",
    "            numbers.append(int(suguru[neighboor]))\n",
    "        possibilities = get_possibilities(numbers)\n",
    "        value = get_value(possibilities)\n",
    "        suguru[position] = value\n",
    "        grid[position] = 1\n",
    "\n",
    "    #allocate values\n",
    "    \n",
    "        i+=1\n",
    "    \"\"\"\n",
    "    print(suguru)\n",
    "\n",
    "    \n",
    "    "
   ]
  },
  {
   "cell_type": "code",
   "execution_count": 13,
   "metadata": {},
   "outputs": [],
   "source": [
    "def make_suguru(size = 8):\n",
    "    # makes a Filled Suguru grid \n",
    "    if 2 < size < 14 : \n",
    "        suguru = np.zeros((size,size)).astype(int)\n",
    "        suguru = make_numbers(suguru)\n",
    "    else:\n",
    "         suguru = np.zeros\n",
    "    return suguru"
   ]
  },
  {
   "cell_type": "code",
   "execution_count": 14,
   "metadata": {},
   "outputs": [
    {
     "name": "stdout",
     "output_type": "stream",
     "text": [
      "[[0 0 0 0 0 0 0 0]\n",
      " [0 0 0 0 0 0 0 0]\n",
      " [0 0 0 0 0 1 0 0]\n",
      " [0 0 0 0 0 0 0 0]\n",
      " [0 0 0 0 0 0 0 0]\n",
      " [0 0 0 0 0 0 0 0]\n",
      " [0 0 0 0 0 0 0 0]\n",
      " [0 0 0 0 0 0 0 0]]\n"
     ]
    }
   ],
   "source": [
    "make_suguru(8)"
   ]
  }
 ],
 "metadata": {
  "kernelspec": {
   "display_name": "Python 3",
   "language": "python",
   "name": "python3"
  },
  "language_info": {
   "codemirror_mode": {
    "name": "ipython",
    "version": 3
   },
   "file_extension": ".py",
   "mimetype": "text/x-python",
   "name": "python",
   "nbconvert_exporter": "python",
   "pygments_lexer": "ipython3",
   "version": "3.11.9"
  }
 },
 "nbformat": 4,
 "nbformat_minor": 2
}
